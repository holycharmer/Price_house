{
 "cells": [
  {
   "cell_type": "code",
   "execution_count": 1,
   "id": "aa981173",
   "metadata": {},
   "outputs": [],
   "source": [
    "%matplotlib inline\n",
    "\n",
    "import pandas as pd # Библиотека для работы с датафреймом\n",
    "from tensorflow.keras import utils # Будем использовать эту библиотеку для \n",
    "import numpy as np # Библиотека для работы с массивами\n",
    "import matplotlib.pyplot as plt # Будем визулизировать данные этой библиотекой\n",
    "import re # Регулряные выражения для эффективной работы со строками\n",
    "from pylab import rcParams\n",
    "from sklearn.model_selection import train_test_split # Импортируем модуль train_test_split\n",
    "from sklearn.preprocessing import StandardScaler\n",
    "from tensorflow.keras.models import Sequential # НС прямого распространения\n",
    "from tensorflow.keras.layers import Dense, Activation, Dropout, BatchNormalization, Input # Основные слои\n",
    "from tensorflow.keras import utils # Утилиты для to_categorical\n",
    "from tensorflow.keras.optimizers import Adam, RMSprop  # Алгоритмы оптимизации, для настройки скорости обучения\n",
    "from tensorflow.keras.models import Model\n",
    "from tensorflow.keras.callbacks import LambdaCallback # библиотеки для создания callback\n",
    "from IPython.display import clear_output\n",
    "import time\n",
    "import datetime\n",
    "import keras.backend as K\n",
    "import sys, traceback, gc"
   ]
  },
  {
   "cell_type": "code",
   "execution_count": 2,
   "id": "1d1289fc",
   "metadata": {},
   "outputs": [],
   "source": [
    "basa = pd.read_csv('H:\\DATA_SET\\moscow_parsed_simple.csv', index_col=False, dtype='unicode')"
   ]
  },
  {
   "cell_type": "code",
   "execution_count": 3,
   "id": "b00f4fc2",
   "metadata": {},
   "outputs": [
    {
     "data": {
      "text/html": [
       "<div>\n",
       "<style scoped>\n",
       "    .dataframe tbody tr th:only-of-type {\n",
       "        vertical-align: middle;\n",
       "    }\n",
       "\n",
       "    .dataframe tbody tr th {\n",
       "        vertical-align: top;\n",
       "    }\n",
       "\n",
       "    .dataframe thead th {\n",
       "        text-align: right;\n",
       "    }\n",
       "</style>\n",
       "<table border=\"1\" class=\"dataframe\">\n",
       "  <thead>\n",
       "    <tr style=\"text-align: right;\">\n",
       "      <th></th>\n",
       "      <th>Unnamed: 0</th>\n",
       "      <th>Комнат</th>\n",
       "      <th>Метро / ЖД станции</th>\n",
       "      <th>От станции</th>\n",
       "      <th>Дом</th>\n",
       "      <th>Балкон</th>\n",
       "      <th>Санузел</th>\n",
       "      <th>Площадь</th>\n",
       "      <th>Цена, руб.</th>\n",
       "      <th>ГРМ</th>\n",
       "      <th>Бонус агенту</th>\n",
       "      <th>Дата</th>\n",
       "      <th>Кол-во дней в экспозиции</th>\n",
       "    </tr>\n",
       "  </thead>\n",
       "  <tbody>\n",
       "    <tr>\n",
       "      <th>0</th>\n",
       "      <td>0</td>\n",
       "      <td>1</td>\n",
       "      <td>Шелепиха м.</td>\n",
       "      <td>12п</td>\n",
       "      <td>35/37 М</td>\n",
       "      <td>NaN</td>\n",
       "      <td>2</td>\n",
       "      <td>64.1/23/20</td>\n",
       "      <td>19500000.0</td>\n",
       "      <td>NaN</td>\n",
       "      <td>NaN</td>\n",
       "      <td>25.07.2019</td>\n",
       "      <td>1.0</td>\n",
       "    </tr>\n",
       "    <tr>\n",
       "      <th>1</th>\n",
       "      <td>1</td>\n",
       "      <td>1</td>\n",
       "      <td>Пятницкое шоссе м.</td>\n",
       "      <td>30т</td>\n",
       "      <td>11/14 П</td>\n",
       "      <td>Л</td>\n",
       "      <td>Р</td>\n",
       "      <td>38.4/17/9</td>\n",
       "      <td>4800000.0</td>\n",
       "      <td>NaN</td>\n",
       "      <td>NaN</td>\n",
       "      <td>25.07.2019</td>\n",
       "      <td>2.0</td>\n",
       "    </tr>\n",
       "    <tr>\n",
       "      <th>2</th>\n",
       "      <td>2</td>\n",
       "      <td>1</td>\n",
       "      <td>Планерная м.</td>\n",
       "      <td>5т</td>\n",
       "      <td>11/22 П</td>\n",
       "      <td>Б</td>\n",
       "      <td>С</td>\n",
       "      <td>38.2/19.9/9.9</td>\n",
       "      <td>7990000.0</td>\n",
       "      <td>NaN</td>\n",
       "      <td>NaN</td>\n",
       "      <td>25.07.2019</td>\n",
       "      <td>4.0</td>\n",
       "    </tr>\n",
       "    <tr>\n",
       "      <th>3</th>\n",
       "      <td>3</td>\n",
       "      <td>1</td>\n",
       "      <td>Шаболовская м.</td>\n",
       "      <td>12п</td>\n",
       "      <td>8/12 ?</td>\n",
       "      <td>Б</td>\n",
       "      <td>Р</td>\n",
       "      <td>38/15/7</td>\n",
       "      <td>11200000.0</td>\n",
       "      <td>NaN</td>\n",
       "      <td>NaN</td>\n",
       "      <td>25.07.2019</td>\n",
       "      <td>7.0</td>\n",
       "    </tr>\n",
       "    <tr>\n",
       "      <th>4</th>\n",
       "      <td>4</td>\n",
       "      <td>1</td>\n",
       "      <td>Бабушкинская м.</td>\n",
       "      <td>15п</td>\n",
       "      <td>4/14 П</td>\n",
       "      <td>NaN</td>\n",
       "      <td>С</td>\n",
       "      <td>34/17/8</td>\n",
       "      <td>6250000.0</td>\n",
       "      <td>NaN</td>\n",
       "      <td>NaN</td>\n",
       "      <td>25.07.2019</td>\n",
       "      <td>11.0</td>\n",
       "    </tr>\n",
       "  </tbody>\n",
       "</table>\n",
       "</div>"
      ],
      "text/plain": [
       "  Unnamed: 0 Комнат  Метро / ЖД станции От станции      Дом Балкон Санузел  \\\n",
       "0          0      1         Шелепиха м.        12п  35/37 М    NaN       2   \n",
       "1          1      1  Пятницкое шоссе м.        30т  11/14 П      Л       Р   \n",
       "2          2      1        Планерная м.         5т  11/22 П      Б       С   \n",
       "3          3      1      Шаболовская м.        12п   8/12 ?      Б       Р   \n",
       "4          4      1     Бабушкинская м.        15п   4/14 П    NaN       С   \n",
       "\n",
       "         Площадь  Цена, руб.  ГРМ Бонус агенту        Дата  \\\n",
       "0     64.1/23/20  19500000.0  NaN          NaN  25.07.2019   \n",
       "1      38.4/17/9   4800000.0  NaN          NaN  25.07.2019   \n",
       "2  38.2/19.9/9.9   7990000.0  NaN          NaN  25.07.2019   \n",
       "3        38/15/7  11200000.0  NaN          NaN  25.07.2019   \n",
       "4        34/17/8   6250000.0  NaN          NaN  25.07.2019   \n",
       "\n",
       "  Кол-во дней в экспозиции  \n",
       "0                      1.0  \n",
       "1                      2.0  \n",
       "2                      4.0  \n",
       "3                      7.0  \n",
       "4                     11.0  "
      ]
     },
     "execution_count": 3,
     "metadata": {},
     "output_type": "execute_result"
    }
   ],
   "source": [
    "basa.head()"
   ]
  },
  {
   "cell_type": "code",
   "execution_count": 4,
   "id": "a565d47d",
   "metadata": {},
   "outputs": [],
   "source": [
    "basa.drop(basa.columns[0], axis=1,inplace=True)      # Уберем столбцы, которые не влияют или незначительно влияют на конечуню цену квартиры\n",
    "basa.drop(basa.columns[10], axis=1,inplace=True)\n",
    "basa =basa.rename(columns={'Метро / ЖД станции': 'Метро'})\n",
    "basa.drop(columns=['Дом', 'ГРМ', 'Бонус агенту', 'Кол-во дней в экспозиции'],inplace=True )"
   ]
  },
  {
   "cell_type": "code",
   "execution_count": 5,
   "id": "7b223eb6",
   "metadata": {},
   "outputs": [],
   "source": [
    "basa['Метро'] = basa['Метро'].replace(to_replace=' м.', value=\"\",regex=True)\n",
    "basa['Метро'] = basa['Метро'].replace(to_replace='МЦК', value=\"\",regex=True)   # Преобразуем столбец \"Метро\", оставив в нем только названия станций\n",
    "basa['Метро'] = basa['Метро'].replace(to_replace='\\(*\\)*', value=\"\",regex=True)"
   ]
  },
  {
   "cell_type": "code",
   "execution_count": 6,
   "id": "d98727f6",
   "metadata": {},
   "outputs": [],
   "source": [
    "metro = pd.read_csv('H:\\DATA_SET\\метро москвы по округам.csv', index_col=False, dtype='unicode') # загружаем таблицу, где станции метро распределены по округам Москвы"
   ]
  },
  {
   "cell_type": "code",
   "execution_count": 7,
   "id": "2212a857",
   "metadata": {},
   "outputs": [
    {
     "data": {
      "text/html": [
       "<div>\n",
       "<style scoped>\n",
       "    .dataframe tbody tr th:only-of-type {\n",
       "        vertical-align: middle;\n",
       "    }\n",
       "\n",
       "    .dataframe tbody tr th {\n",
       "        vertical-align: top;\n",
       "    }\n",
       "\n",
       "    .dataframe thead th {\n",
       "        text-align: right;\n",
       "    }\n",
       "</style>\n",
       "<table border=\"1\" class=\"dataframe\">\n",
       "  <thead>\n",
       "    <tr style=\"text-align: right;\">\n",
       "      <th></th>\n",
       "      <th>Unnamed: 0</th>\n",
       "      <th>ЦАО</th>\n",
       "      <th>ЮВАО</th>\n",
       "      <th>ЮЗАО</th>\n",
       "      <th>ЮАО</th>\n",
       "      <th>СЗАО</th>\n",
       "      <th>СВАО</th>\n",
       "      <th>САО</th>\n",
       "      <th>ЗАО</th>\n",
       "      <th>ВАО</th>\n",
       "      <th>НАО</th>\n",
       "    </tr>\n",
       "  </thead>\n",
       "  <tbody>\n",
       "    <tr>\n",
       "      <th>0</th>\n",
       "      <td>NaN</td>\n",
       "      <td>Александровский Сад</td>\n",
       "      <td>Авиамоторная</td>\n",
       "      <td>Академическая</td>\n",
       "      <td>Автозаводская</td>\n",
       "      <td>Волоколамская</td>\n",
       "      <td>Алексеевская</td>\n",
       "      <td>Аэропорт</td>\n",
       "      <td>Багратионовская</td>\n",
       "      <td>Выхино</td>\n",
       "      <td>Румянцево</td>\n",
       "    </tr>\n",
       "    <tr>\n",
       "      <th>1</th>\n",
       "      <td>NaN</td>\n",
       "      <td>Арбатская</td>\n",
       "      <td>Братиславская</td>\n",
       "      <td>Беляево</td>\n",
       "      <td>ул. Академика Янгеля</td>\n",
       "      <td>Митино</td>\n",
       "      <td>Алтуфьево</td>\n",
       "      <td>Беговая</td>\n",
       "      <td>Киевская</td>\n",
       "      <td>Измайловская</td>\n",
       "      <td>Саларьево</td>\n",
       "    </tr>\n",
       "    <tr>\n",
       "      <th>2</th>\n",
       "      <td>NaN</td>\n",
       "      <td>Арбатская</td>\n",
       "      <td>Волжская</td>\n",
       "      <td>Битцевский Парк</td>\n",
       "      <td>Алма-Атинская</td>\n",
       "      <td>Мякинино</td>\n",
       "      <td>Бабушкинская</td>\n",
       "      <td>Водный Стадион</td>\n",
       "      <td>Киевская</td>\n",
       "      <td>Измайловский Парк</td>\n",
       "      <td>Саларьево</td>\n",
       "    </tr>\n",
       "    <tr>\n",
       "      <th>3</th>\n",
       "      <td>NaN</td>\n",
       "      <td>Баррикадная</td>\n",
       "      <td>Волгоградский Проспект</td>\n",
       "      <td>Бульвар Дмитрия Донского</td>\n",
       "      <td>Аннино</td>\n",
       "      <td>Октябрьское Поле</td>\n",
       "      <td>Бибирево</td>\n",
       "      <td>Войковская</td>\n",
       "      <td>Киевская</td>\n",
       "      <td>Новогиреево</td>\n",
       "      <td>NaN</td>\n",
       "    </tr>\n",
       "    <tr>\n",
       "      <th>4</th>\n",
       "      <td>NaN</td>\n",
       "      <td>Бауманская</td>\n",
       "      <td>Дубровка</td>\n",
       "      <td>Калужская</td>\n",
       "      <td>Варшавская</td>\n",
       "      <td>Планерная м.</td>\n",
       "      <td>Ботанический Сад</td>\n",
       "      <td>Полежаевская</td>\n",
       "      <td>Кунцевская</td>\n",
       "      <td>Первомайская</td>\n",
       "      <td>NaN</td>\n",
       "    </tr>\n",
       "  </tbody>\n",
       "</table>\n",
       "</div>"
      ],
      "text/plain": [
       "  Unnamed: 0                  ЦАО                    ЮВАО  \\\n",
       "0        NaN  Александровский Сад            Авиамоторная   \n",
       "1        NaN            Арбатская           Братиславская   \n",
       "2        NaN            Арбатская                Волжская   \n",
       "3        NaN          Баррикадная  Волгоградский Проспект   \n",
       "4        NaN           Бауманская                Дубровка   \n",
       "\n",
       "                       ЮЗАО                   ЮАО              СЗАО  \\\n",
       "0             Академическая         Автозаводская     Волоколамская   \n",
       "1                   Беляево  ул. Академика Янгеля            Митино   \n",
       "2           Битцевский Парк         Алма-Атинская          Мякинино   \n",
       "3  Бульвар Дмитрия Донского                Аннино  Октябрьское Поле   \n",
       "4                 Калужская            Варшавская      Планерная м.   \n",
       "\n",
       "               СВАО             САО              ЗАО                ВАО  \\\n",
       "0      Алексеевская        Аэропорт  Багратионовская             Выхино   \n",
       "1         Алтуфьево         Беговая         Киевская       Измайловская   \n",
       "2      Бабушкинская  Водный Стадион         Киевская  Измайловский Парк   \n",
       "3          Бибирево      Войковская         Киевская        Новогиреево   \n",
       "4  Ботанический Сад    Полежаевская       Кунцевская       Первомайская   \n",
       "\n",
       "         НАО  \n",
       "0  Румянцево  \n",
       "1  Саларьево  \n",
       "2  Саларьево  \n",
       "3        NaN  \n",
       "4        NaN  "
      ]
     },
     "execution_count": 7,
     "metadata": {},
     "output_type": "execute_result"
    }
   ],
   "source": [
    "metro.head()"
   ]
  },
  {
   "cell_type": "code",
   "execution_count": 8,
   "id": "963e27a0",
   "metadata": {},
   "outputs": [],
   "source": [
    "metro.drop(metro.columns[0], axis=1, inplace=True)"
   ]
  },
  {
   "cell_type": "code",
   "execution_count": 9,
   "id": "aab308c2",
   "metadata": {},
   "outputs": [],
   "source": [
    "district_1 = metro['ЦАО'].to_list()\n",
    "district_2 = metro['ЮВАО'].to_list()\n",
    "district_3 = metro['ЮЗАО'].to_list()\n",
    "district_4 = metro['ЮАО'].to_list()\n",
    "district_5 = metro['СЗАО'].to_list()\n",
    "district_6 = metro['СВАО'].to_list()\n",
    "district_7 = metro['САО'].to_list()\n",
    "district_8 = metro['ЗАО'].to_list()\n",
    "district_9 = metro['ВАО'].to_list()\n",
    "district_10 = metro['НАО'].to_list()"
   ]
  },
  {
   "cell_type": "code",
   "execution_count": 10,
   "id": "b915eff0",
   "metadata": {},
   "outputs": [],
   "source": [
    "def metro_parameter(arg):     # функция, преобразовывающая название станции метро в бинарный вектор, указывающий на то,\n",
    "    out = 0                   # к какому округу относится станция \n",
    "    if arg == arg:\n",
    "        item=arg           \n",
    "        if item in district_1: out = 1\n",
    "        if item in district_2 or item in district_9: out = 2\n",
    "        if item in district_3 or item in district_4 : out = 3\n",
    "        if item in district_5 or item in district_8: out = 4\n",
    "        if item in district_6 or item in district_7: out = 5\n",
    "        if item in district_10: out = 6\n",
    "    else:\n",
    "        out = 0\n",
    "    return list(utils.to_categorical(out, 7).astype('int'))"
   ]
  },
  {
   "cell_type": "code",
   "execution_count": 11,
   "id": "3049b9a0",
   "metadata": {},
   "outputs": [
    {
     "name": "stdout",
     "output_type": "stream",
     "text": [
      "['1' nan '2' '5' '6' '7' '8' '10' '9' '14' '13' '11' '15' '16' '12' '20'\n",
      " '30' '01.мар' '02.апр' '01.апр' '01.янв' '03.май' '01.фев' '02.мар'\n",
      " '01.июн' '01.авг' '03.апр' '01.май' '02.май' '01.сен' '01.июл' '02.июл'\n",
      " '03.июн' '05.июн' '03.авг' '01.окт' '04.май' '02.июн' '04.июн' '01.дек'\n",
      " '4' '03.июл' '02.фев' '03.мар' 'Ст']\n",
      "[nan 'Л' 'Б' '2Б' '-' '2Б2Л' 'БЛ' '3Б' '2Л' 'Эрк' 'Б2Л' 'ЭркЛ' '3Л' '4Л'\n",
      " '*Л' '*Б']\n",
      "['2' 'Р' 'С' nan '-' '2С' '+' '4Р' '2Р' '3С' '4С' '4' '3' '3Р']\n"
     ]
    }
   ],
   "source": [
    "print(basa['Комнат'].unique(),\n",
    "      basa['Балкон'].unique(),            # Посмотрим на уникальные значения в столбцах \"Комнат\", \"Балкон\", \"Санузел\"\n",
    "      basa['Санузел'].unique(), sep='\\n') # Как можно заметить, в столбцах присутсвуют значения nan"
   ]
  },
  {
   "cell_type": "code",
   "execution_count": 12,
   "id": "a9665fd9",
   "metadata": {},
   "outputs": [
    {
     "data": {
      "text/plain": [
       "Комнат            6\n",
       "Метро           334\n",
       "От станции     1729\n",
       "Балкон        78199\n",
       "Санузел       46709\n",
       "Площадь           0\n",
       "Цена, руб.        0\n",
       "dtype: int64"
      ]
     },
     "execution_count": 12,
     "metadata": {},
     "output_type": "execute_result"
    }
   ],
   "source": [
    "basa.isnull().sum() # Посмотрим, сколько значений nan содержит каждый столбец нашей базы данных"
   ]
  },
  {
   "cell_type": "code",
   "execution_count": 13,
   "id": "c0a9b35e",
   "metadata": {},
   "outputs": [],
   "source": [
    "basa.dropna(subset=['Комнат'], inplace = True) #Поскольку количество nan в столбце \"Комнат\" всего лишь 6, можем убрать эти \n",
    "                                               # квартиры из БД"
   ]
  },
  {
   "cell_type": "code",
   "execution_count": 14,
   "id": "17ab91b5",
   "metadata": {},
   "outputs": [
    {
     "name": "stdout",
     "output_type": "stream",
     "text": [
      "[1 2 5 6 7 3 4]\n"
     ]
    }
   ],
   "source": [
    "basa['Комнат'] = basa['Комнат'].replace(to_replace=[\".янв\", \".фев\",\".мар\", \".апр\",\".май\", \".июн\",\".июл\",\".авг\", \".сен\",\".окт\", \".ноя\", \".дек\",], value=\"\",regex=True)\n",
    "basa['Комнат'] = basa['Комнат'].replace(to_replace=\"Ст\", value = 1, regex=True)\n",
    "basa['Комнат'] = basa['Комнат'].replace(to_replace=\"01\", value = 1, regex=True)\n",
    "basa['Комнат'] = basa['Комнат'].replace(to_replace=\"02\", value = 2, regex=True)   # Чистим столбец \"Комнат\" и убираем квартиры\n",
    "basa['Комнат'] = basa['Комнат'].replace(to_replace=\"03\", value = 3, regex=True)   # в которых больше 8 комант, так как таких \n",
    "basa['Комнат'] = basa['Комнат'].replace(to_replace=\"04\", value = 4, regex=True)   # экземпляров слишком мало\n",
    "basa['Комнат'] = basa['Комнат'].replace(to_replace=\"05\", value = 5, regex=True)\n",
    "basa['Комнат'] = basa['Комнат'].astype(int)\n",
    "basa.drop(basa.loc[basa ['Комнат']>7].index, inplace=True)\n",
    "print(basa['Комнат'].unique())"
   ]
  },
  {
   "cell_type": "code",
   "execution_count": 15,
   "id": "d524e3d7",
   "metadata": {},
   "outputs": [],
   "source": [
    "def room_parameter(arg): # Полученное количество комнат превращаем в класс категории комнат\n",
    "    \n",
    "    outclass = 0  \n",
    "    if arg == 2: outclass = 1\n",
    "    if arg == 3: outclass = 2\n",
    "    if arg == 4: outclass = 3\n",
    "    if arg >= 5: outclass = 4\n",
    "\n",
    "    # На выходе получаем вектор с нужной категорией комнат\n",
    "    return list(utils.to_categorical(outclass, 5).astype('int'))"
   ]
  },
  {
   "cell_type": "code",
   "execution_count": 16,
   "id": "8a7a7332",
   "metadata": {},
   "outputs": [
    {
     "name": "stdout",
     "output_type": "stream",
     "text": [
      "['12п' '30т' '5т' '15п' '2п' '10п' '20п' '3п' '8п' '20т' '7п' '10т' '7т'\n",
      " nan '13п' '25п' '5п' '28т' '21п' '15т' '6п' '18п' '16п' '35т' '14п' '4п'\n",
      " '17п' '6т' '23п' '11п' '36п' '32т' '29т' '27т' '19п' '3т' '8т' '1п' '9п'\n",
      " '12т' '25т' '18т' '4т' '13т' '26п' '33т' '24т' '24п' '2т' '11т' '14т'\n",
      " '23т' '9т' '22п' '45т' '30п' '29п' '27п' '38т' '21т' '19т' '50т' '73т'\n",
      " '28п' '16т' '40т' '17т' '26т' '60т' '34т' '71п' '22т' '55т' '52т' '31т'\n",
      " '54т' '44т' '43т' '37т' '57т' '49т' '58т' '51т' '56т' '59т' '46т' '39т'\n",
      " '41т' '48т' '64т' '53т' '1т' '54п' '47т' '34п' '75т' '93т' '42т' '36т'\n",
      " '77т' '65т' '58п' '70т' '74т' '79т' '66т' '31п' '32п' '80т' '61т' '940п'\n",
      " '120т']\n"
     ]
    }
   ],
   "source": [
    "print(basa['От станции'].unique())"
   ]
  },
  {
   "cell_type": "code",
   "execution_count": 17,
   "id": "fa78c6b4",
   "metadata": {},
   "outputs": [],
   "source": [
    "def distance(arg):   # преобразуем значения из столбца \"От станции\" в расстояние(в км) до станции метро\n",
    "    if arg == arg:\n",
    "        arg = str(arg)\n",
    "        dis = 0\n",
    "        time = re.sub(r'[^\\d]+', '', arg)\n",
    "        type_move =  re.sub(r'[\\d]+', '', arg)\n",
    "        if \"п\" in type_move: dis = float(int(time)*5/60) # 5 км/ч - средняя скорость пешком\n",
    "        if \"т\" in type_move: dis = float(int(time)*25/60)# 25 км/ч - средняя скорость на общественном транспорте\n",
    "        return dis               "
   ]
  },
  {
   "cell_type": "code",
   "execution_count": 18,
   "id": "d17ee143",
   "metadata": {},
   "outputs": [],
   "source": [
    "basa['От станции'] = [distance(cell) for cell in basa['От станции']]\n",
    "basa['От станции'] = basa['От станции'].round(3)\n",
    "basa['От станции'].fillna(0,inplace=True) # заменим все nan на 0(это значение будет принадлежать классу неопознанного расстояния)"
   ]
  },
  {
   "cell_type": "code",
   "execution_count": 19,
   "id": "133dfdac",
   "metadata": {},
   "outputs": [
    {
     "name": "stdout",
     "output_type": "stream",
     "text": [
      "[ 1.    12.5    2.083  1.25   0.167  0.833  1.667  0.25   0.667  8.333\n",
      "  0.583  4.167  2.917  0.     1.083  0.417 11.667  1.75   6.25   0.5\n",
      "  1.5    1.333 14.583  1.167  0.333  1.417  2.5    1.917  0.917  3.\n",
      " 13.333 12.083 11.25   1.583  3.333  0.083  0.75   5.    10.417  7.5\n",
      "  5.417  2.167 13.75  10.     2.     4.583  5.833  9.583  3.75   1.833\n",
      " 18.75   2.417  2.25  15.833  8.75   7.917 20.833 30.417  2.333  6.667\n",
      " 16.667  7.083 10.833 25.    14.167  5.917  9.167 22.917 21.667 12.917\n",
      " 22.5   18.333 17.917 15.417 23.75  20.417 24.167 21.25  23.333 24.583\n",
      " 19.167 16.25  17.083 20.    26.667 22.083  4.5   19.583  2.833 31.25\n",
      " 38.75  17.5   15.    32.083 27.083  4.833 29.167 30.833 32.917 27.5\n",
      "  2.583  2.667 33.333 25.417 78.333 50.   ]\n"
     ]
    }
   ],
   "source": [
    "print(basa['От станции'].unique())"
   ]
  },
  {
   "cell_type": "code",
   "execution_count": 20,
   "id": "ccc835d9",
   "metadata": {},
   "outputs": [
    {
     "data": {
      "image/png": "[encoded data removed]",
      "text/plain": [
       "<Figure size 576x504 with 1 Axes>"
      ]
     },
     "metadata": {
      "needs_background": "light"
     },
     "output_type": "display_data"
    }
   ],
   "source": [
    "rcParams['figure.figsize'] = 8, 7\n",
    "plt.hist(basa[basa['От станции'] <20]['От станции'],  bins=30) # посмотрим на распределение расстояний до станции метро\n",
    "plt.show()"
   ]
  },
  {
   "cell_type": "code",
   "execution_count": 21,
   "id": "c7d308e8",
   "metadata": {},
   "outputs": [],
   "source": [
    "basa.drop(basa.loc[basa ['От станции']>4].index, inplace=True) # отбросим те экземпляры, где расстояние больше 4 км, так как их очень мало"
   ]
  },
  {
   "cell_type": "code",
   "execution_count": 22,
   "id": "fee21c76",
   "metadata": {},
   "outputs": [],
   "source": [
    "def distance_parameter(arg): # Полученное расстояние превращаем в класс категории расстояния и преобразовываем в бинарный вектор\n",
    "    \n",
    "    out = arg\n",
    "    outclass = 0\n",
    "    if out > 0:\n",
    "        outclass = 1\n",
    "    if out > 0.5:\n",
    "        outclass = 2\n",
    "    if out > 1:\n",
    "        outclass = 3\n",
    "    if out > 2:\n",
    "        outclass = 4\n",
    "    if out > 3:\n",
    "        outclass = 5\n",
    "  \n",
    "    return list(utils.to_categorical(outclass, 6).astype(int))"
   ]
  },
  {
   "cell_type": "code",
   "execution_count": 23,
   "id": "706b018f",
   "metadata": {},
   "outputs": [
    {
     "name": "stdout",
     "output_type": "stream",
     "text": [
      "[nan 'Б' 'Л' '2Б' 0 '2Б2Л' 'БЛ' '3Б' '2Л' 'Эрк' 'Б2Л' 'ЭркЛ' '3Л' '4Л']\n"
     ]
    }
   ],
   "source": [
    "basa['Балкон'] = basa['Балкон'].replace(to_replace='\\-', value = 0, regex=True)  # заменим \"-\" на 0(балкон отсутствует)\n",
    "basa['Балкон'] = basa['Балкон'].replace(to_replace='\\*', value = '', regex=True) \n",
    "print(basa['Балкон'].unique())"
   ]
  },
  {
   "cell_type": "code",
   "execution_count": 24,
   "id": "3b141a51",
   "metadata": {},
   "outputs": [],
   "source": [
    "def balcony_parameter(arg): # преобразуем значения столбца \"Балкон\" в бинарный вектор\n",
    "    out = 0\n",
    "    if arg == arg: \n",
    "        if arg == 0: out = 1 # если балкона нет - первый класс\n",
    "        if arg ==\"Л\" or arg == \"Б\": out = 2 # если есть один балкон или лоджия - второй класс\n",
    "        else:\n",
    "            out = 3 # если больше 2х балконов или лоджий - третий класс\n",
    "    else:\n",
    "        out = 0 # если было значение nan - класс неопознанных значений\n",
    "    return list(utils.to_categorical(out, 4).astype('int'))"
   ]
  },
  {
   "cell_type": "code",
   "execution_count": 25,
   "id": "6b5de2e2",
   "metadata": {},
   "outputs": [
    {
     "name": "stdout",
     "output_type": "stream",
     "text": [
      "['2' 'С' 'Р' nan 0 '2С' '4Р' '2Р' '3С' '4С' '4' '3' '3Р']\n"
     ]
    }
   ],
   "source": [
    "basa['Санузел']=basa['Санузел'].replace(to_replace= \"+\", value = \"Р\")  # заменим + на раздельный санузел\n",
    "basa['Санузел']=basa['Санузел'].replace(to_replace= \"-\", value = 0)    # заменим \"-\" на 0(санузел отсутствует)\n",
    "print(basa['Санузел'].unique())"
   ]
  },
  {
   "cell_type": "code",
   "execution_count": 26,
   "id": "ab455dd2",
   "metadata": {},
   "outputs": [],
   "source": [
    "def bathroom_parameter(arg): # преобразуем значения столбца \"санузел\" в бинарный вектор\n",
    "    out = 0\n",
    "    if arg == arg:\n",
    "        if arg == 0: out = 1 # если санузла нет - первый класс\n",
    "        else: out = 2        # если санузел есть - второй класс\n",
    "    else:\n",
    "        out = 0              # 0 класс - неопознанное значение\n",
    "    return list(utils.to_categorical(out, 3).astype('int'))"
   ]
  },
  {
   "cell_type": "code",
   "execution_count": 27,
   "id": "5c0dd1d5",
   "metadata": {},
   "outputs": [
    {
     "data": {
      "text/html": [
       "<div>\n",
       "<style scoped>\n",
       "    .dataframe tbody tr th:only-of-type {\n",
       "        vertical-align: middle;\n",
       "    }\n",
       "\n",
       "    .dataframe tbody tr th {\n",
       "        vertical-align: top;\n",
       "    }\n",
       "\n",
       "    .dataframe thead th {\n",
       "        text-align: right;\n",
       "    }\n",
       "</style>\n",
       "<table border=\"1\" class=\"dataframe\">\n",
       "  <thead>\n",
       "    <tr style=\"text-align: right;\">\n",
       "      <th></th>\n",
       "      <th>Комнат</th>\n",
       "      <th>Метро</th>\n",
       "      <th>От станции</th>\n",
       "      <th>Балкон</th>\n",
       "      <th>Санузел</th>\n",
       "      <th>Площадь</th>\n",
       "      <th>Цена, руб.</th>\n",
       "    </tr>\n",
       "  </thead>\n",
       "  <tbody>\n",
       "    <tr>\n",
       "      <th>0</th>\n",
       "      <td>1</td>\n",
       "      <td>Шелепиха</td>\n",
       "      <td>1.000</td>\n",
       "      <td>NaN</td>\n",
       "      <td>2</td>\n",
       "      <td>64.1/23/20</td>\n",
       "      <td>19500000.0</td>\n",
       "    </tr>\n",
       "    <tr>\n",
       "      <th>2</th>\n",
       "      <td>1</td>\n",
       "      <td>Планерная</td>\n",
       "      <td>2.083</td>\n",
       "      <td>Б</td>\n",
       "      <td>С</td>\n",
       "      <td>38.2/19.9/9.9</td>\n",
       "      <td>7990000.0</td>\n",
       "    </tr>\n",
       "    <tr>\n",
       "      <th>3</th>\n",
       "      <td>1</td>\n",
       "      <td>Шаболовская</td>\n",
       "      <td>1.000</td>\n",
       "      <td>Б</td>\n",
       "      <td>Р</td>\n",
       "      <td>38/15/7</td>\n",
       "      <td>11200000.0</td>\n",
       "    </tr>\n",
       "    <tr>\n",
       "      <th>4</th>\n",
       "      <td>1</td>\n",
       "      <td>Бабушкинская</td>\n",
       "      <td>1.250</td>\n",
       "      <td>NaN</td>\n",
       "      <td>С</td>\n",
       "      <td>34/17/8</td>\n",
       "      <td>6250000.0</td>\n",
       "    </tr>\n",
       "    <tr>\n",
       "      <th>5</th>\n",
       "      <td>1</td>\n",
       "      <td>Шелепиха</td>\n",
       "      <td>1.250</td>\n",
       "      <td>NaN</td>\n",
       "      <td>NaN</td>\n",
       "      <td>44/14.7/19.2</td>\n",
       "      <td>12700000.0</td>\n",
       "    </tr>\n",
       "  </tbody>\n",
       "</table>\n",
       "</div>"
      ],
      "text/plain": [
       "   Комнат         Метро  От станции Балкон Санузел        Площадь  Цена, руб.\n",
       "0       1      Шелепиха       1.000    NaN       2     64.1/23/20  19500000.0\n",
       "2       1     Планерная       2.083      Б       С  38.2/19.9/9.9   7990000.0\n",
       "3       1   Шаболовская       1.000      Б       Р        38/15/7  11200000.0\n",
       "4       1  Бабушкинская       1.250    NaN       С        34/17/8   6250000.0\n",
       "5       1      Шелепиха       1.250    NaN     NaN   44/14.7/19.2  12700000.0"
      ]
     },
     "execution_count": 27,
     "metadata": {},
     "output_type": "execute_result"
    }
   ],
   "source": [
    "basa.head()"
   ]
  },
  {
   "cell_type": "code",
   "execution_count": 28,
   "id": "b939c1ae",
   "metadata": {},
   "outputs": [
    {
     "data": {
      "text/plain": [
       "array(['64.1', '38.2', '38', ..., '199.2', '180.8', '15.12.2002'],\n",
       "      dtype=object)"
      ]
     },
     "execution_count": 28,
     "metadata": {},
     "output_type": "execute_result"
    }
   ],
   "source": [
    "basa['Площадь'] = basa['Площадь'].replace(to_replace=r'/.+', value ='', regex=True) #Площадь всей квартиры - это первое число из трех\n",
    "basa['Площадь'].unique()                                                            #в столбце \"Площадь\""
   ]
  },
  {
   "cell_type": "code",
   "execution_count": 29,
   "id": "dc31993e",
   "metadata": {},
   "outputs": [],
   "source": [
    "basa.drop(basa.loc[basa ['Площадь'].map(len)>6].index, inplace=True)  # уберем квартиры, где вместо площади были записаны даты\n",
    "basa.drop(basa.loc[basa ['Площадь'].map(len)==1].index, inplace=True) # уберем квартиры, где вместо площади были записаны \"?\""
   ]
  },
  {
   "cell_type": "code",
   "execution_count": 30,
   "id": "74a88997",
   "metadata": {},
   "outputs": [],
   "source": [
    "basa['Площадь']= basa['Площадь'].astype(float)"
   ]
  },
  {
   "cell_type": "code",
   "execution_count": 31,
   "id": "da219304",
   "metadata": {},
   "outputs": [
    {
     "name": "stdout",
     "output_type": "stream",
     "text": [
      "[ 64.1  38.2  38.  ...  10.9 199.2 180.8]\n"
     ]
    }
   ],
   "source": [
    "print(basa['Площадь'].unique())"
   ]
  },
  {
   "cell_type": "code",
   "execution_count": 32,
   "id": "0f1f353b",
   "metadata": {},
   "outputs": [
    {
     "data": {
      "image/png": "[encoded data removed]",
      "text/plain": [
       "<Figure size 576x504 with 1 Axes>"
      ]
     },
     "metadata": {
      "needs_background": "light"
     },
     "output_type": "display_data"
    }
   ],
   "source": [
    "plt.hist(basa[basa['Площадь'] <300]['Площадь'],  bins=30)\n",
    "plt.show()"
   ]
  },
  {
   "cell_type": "code",
   "execution_count": 33,
   "id": "38fb24c7",
   "metadata": {},
   "outputs": [],
   "source": [
    "basa.drop(basa.loc[basa ['Площадь']>100].index, inplace=True) #уберем квартиры с площадью больше 250 кв м, так как их очень мало"
   ]
  },
  {
   "cell_type": "code",
   "execution_count": 34,
   "id": "e7a9a1d2",
   "metadata": {},
   "outputs": [],
   "source": [
    "def square_parameter(arg):# преобразуем значения столбца \"Площадь\" в бинарный вектор\n",
    "    out = arg\n",
    "    outclass = 0\n",
    "    if out > 20:\n",
    "        outclass = 1\n",
    "    if out > 30:\n",
    "        outclass = 2\n",
    "    if out > 40:\n",
    "        outclass = 3\n",
    "    if out > 50:\n",
    "        outclass = 4\n",
    "    if out > 70:\n",
    "        outclass = 5\n",
    "    if out > 100:\n",
    "        outclass = 6\n",
    "    return list(utils.to_categorical(outclass, 7).astype(int))  "
   ]
  },
  {
   "cell_type": "code",
   "execution_count": 35,
   "id": "d1945c46",
   "metadata": {},
   "outputs": [],
   "source": [
    "def price(arg): \n",
    "    arg = arg*0.000001\n",
    "    return arg"
   ]
  },
  {
   "cell_type": "code",
   "execution_count": 36,
   "id": "60888397",
   "metadata": {},
   "outputs": [],
   "source": [
    "basa['Цена, руб.'] = basa['Цена, руб.'].astype(float).round(3)"
   ]
  },
  {
   "cell_type": "code",
   "execution_count": 37,
   "id": "6fcebe35",
   "metadata": {},
   "outputs": [],
   "source": [
    "basa['Цена, руб.'] = [price(cell) for cell in basa['Цена, руб.']]"
   ]
  },
  {
   "cell_type": "code",
   "execution_count": 38,
   "id": "f30edab8",
   "metadata": {},
   "outputs": [
    {
     "data": {
      "image/png": "[encoded data removed]",
      "text/plain": [
       "<Figure size 576x504 with 1 Axes>"
      ]
     },
     "metadata": {
      "needs_background": "light"
     },
     "output_type": "display_data"
    }
   ],
   "source": [
    "rcParams['figure.figsize'] = 8, 7\n",
    "plt.hist(basa[basa['Цена, руб.'] <100]['Цена, руб.'],  bins=30)\n",
    "plt.show()"
   ]
  },
  {
   "cell_type": "code",
   "execution_count": 39,
   "id": "084e2afa",
   "metadata": {},
   "outputs": [],
   "source": [
    "basa.drop(basa.loc[basa ['Цена, руб.']>25].index, inplace=True) #уберем квартиры с ценой больше 30 млн, так как их очень мало"
   ]
  },
  {
   "cell_type": "code",
   "execution_count": 40,
   "id": "d20d234f",
   "metadata": {},
   "outputs": [
    {
     "data": {
      "text/html": [
       "<div>\n",
       "<style scoped>\n",
       "    .dataframe tbody tr th:only-of-type {\n",
       "        vertical-align: middle;\n",
       "    }\n",
       "\n",
       "    .dataframe tbody tr th {\n",
       "        vertical-align: top;\n",
       "    }\n",
       "\n",
       "    .dataframe thead th {\n",
       "        text-align: right;\n",
       "    }\n",
       "</style>\n",
       "<table border=\"1\" class=\"dataframe\">\n",
       "  <thead>\n",
       "    <tr style=\"text-align: right;\">\n",
       "      <th></th>\n",
       "      <th>Комнат</th>\n",
       "      <th>Метро</th>\n",
       "      <th>От станции</th>\n",
       "      <th>Балкон</th>\n",
       "      <th>Санузел</th>\n",
       "      <th>Площадь</th>\n",
       "      <th>Цена, руб.</th>\n",
       "    </tr>\n",
       "  </thead>\n",
       "  <tbody>\n",
       "    <tr>\n",
       "      <th>0</th>\n",
       "      <td>1</td>\n",
       "      <td>Шелепиха</td>\n",
       "      <td>1.000</td>\n",
       "      <td>NaN</td>\n",
       "      <td>2</td>\n",
       "      <td>64.1</td>\n",
       "      <td>19.500000</td>\n",
       "    </tr>\n",
       "    <tr>\n",
       "      <th>2</th>\n",
       "      <td>1</td>\n",
       "      <td>Планерная</td>\n",
       "      <td>2.083</td>\n",
       "      <td>Б</td>\n",
       "      <td>С</td>\n",
       "      <td>38.2</td>\n",
       "      <td>7.990000</td>\n",
       "    </tr>\n",
       "    <tr>\n",
       "      <th>3</th>\n",
       "      <td>1</td>\n",
       "      <td>Шаболовская</td>\n",
       "      <td>1.000</td>\n",
       "      <td>Б</td>\n",
       "      <td>Р</td>\n",
       "      <td>38.0</td>\n",
       "      <td>11.200000</td>\n",
       "    </tr>\n",
       "    <tr>\n",
       "      <th>4</th>\n",
       "      <td>1</td>\n",
       "      <td>Бабушкинская</td>\n",
       "      <td>1.250</td>\n",
       "      <td>NaN</td>\n",
       "      <td>С</td>\n",
       "      <td>34.0</td>\n",
       "      <td>6.250000</td>\n",
       "    </tr>\n",
       "    <tr>\n",
       "      <th>5</th>\n",
       "      <td>1</td>\n",
       "      <td>Шелепиха</td>\n",
       "      <td>1.250</td>\n",
       "      <td>NaN</td>\n",
       "      <td>NaN</td>\n",
       "      <td>44.0</td>\n",
       "      <td>12.700000</td>\n",
       "    </tr>\n",
       "    <tr>\n",
       "      <th>6</th>\n",
       "      <td>1</td>\n",
       "      <td>Улица Дмитриевского</td>\n",
       "      <td>0.167</td>\n",
       "      <td>Л</td>\n",
       "      <td>Р</td>\n",
       "      <td>43.0</td>\n",
       "      <td>6.500000</td>\n",
       "    </tr>\n",
       "    <tr>\n",
       "      <th>7</th>\n",
       "      <td>1</td>\n",
       "      <td>Бульвар Рокоссовского</td>\n",
       "      <td>0.167</td>\n",
       "      <td>Б</td>\n",
       "      <td>С</td>\n",
       "      <td>31.0</td>\n",
       "      <td>6.000000</td>\n",
       "    </tr>\n",
       "    <tr>\n",
       "      <th>8</th>\n",
       "      <td>1</td>\n",
       "      <td>Марьина Роща</td>\n",
       "      <td>0.833</td>\n",
       "      <td>2Б</td>\n",
       "      <td>NaN</td>\n",
       "      <td>38.9</td>\n",
       "      <td>8.900000</td>\n",
       "    </tr>\n",
       "    <tr>\n",
       "      <th>9</th>\n",
       "      <td>1</td>\n",
       "      <td>Марьино</td>\n",
       "      <td>1.667</td>\n",
       "      <td>NaN</td>\n",
       "      <td>0</td>\n",
       "      <td>30.9</td>\n",
       "      <td>5.999984</td>\n",
       "    </tr>\n",
       "    <tr>\n",
       "      <th>10</th>\n",
       "      <td>1</td>\n",
       "      <td>Марьино</td>\n",
       "      <td>2.083</td>\n",
       "      <td>Б</td>\n",
       "      <td>С</td>\n",
       "      <td>31.7</td>\n",
       "      <td>5.790000</td>\n",
       "    </tr>\n",
       "    <tr>\n",
       "      <th>11</th>\n",
       "      <td>1</td>\n",
       "      <td>Печатники</td>\n",
       "      <td>2.083</td>\n",
       "      <td>0</td>\n",
       "      <td>С</td>\n",
       "      <td>35.0</td>\n",
       "      <td>5.200000</td>\n",
       "    </tr>\n",
       "    <tr>\n",
       "      <th>12</th>\n",
       "      <td>1</td>\n",
       "      <td>Красногвардейская</td>\n",
       "      <td>0.250</td>\n",
       "      <td>Б</td>\n",
       "      <td>С</td>\n",
       "      <td>40.5</td>\n",
       "      <td>8.079750</td>\n",
       "    </tr>\n",
       "    <tr>\n",
       "      <th>13</th>\n",
       "      <td>1</td>\n",
       "      <td>Красногвардейская</td>\n",
       "      <td>0.250</td>\n",
       "      <td>Б</td>\n",
       "      <td>С</td>\n",
       "      <td>40.5</td>\n",
       "      <td>8.039250</td>\n",
       "    </tr>\n",
       "    <tr>\n",
       "      <th>14</th>\n",
       "      <td>1</td>\n",
       "      <td>Красногвардейская</td>\n",
       "      <td>0.250</td>\n",
       "      <td>0</td>\n",
       "      <td>С</td>\n",
       "      <td>40.9</td>\n",
       "      <td>7.750550</td>\n",
       "    </tr>\n",
       "    <tr>\n",
       "      <th>15</th>\n",
       "      <td>1</td>\n",
       "      <td>Площадь Ильича</td>\n",
       "      <td>0.667</td>\n",
       "      <td>0</td>\n",
       "      <td>С</td>\n",
       "      <td>31.5</td>\n",
       "      <td>6.840300</td>\n",
       "    </tr>\n",
       "    <tr>\n",
       "      <th>16</th>\n",
       "      <td>1</td>\n",
       "      <td>Красногвардейская</td>\n",
       "      <td>0.250</td>\n",
       "      <td>0</td>\n",
       "      <td>С</td>\n",
       "      <td>41.1</td>\n",
       "      <td>7.213050</td>\n",
       "    </tr>\n",
       "    <tr>\n",
       "      <th>17</th>\n",
       "      <td>1</td>\n",
       "      <td>Красногвардейская</td>\n",
       "      <td>0.250</td>\n",
       "      <td>0</td>\n",
       "      <td>С</td>\n",
       "      <td>41.2</td>\n",
       "      <td>7.230600</td>\n",
       "    </tr>\n",
       "    <tr>\n",
       "      <th>18</th>\n",
       "      <td>1</td>\n",
       "      <td>Площадь Ильича</td>\n",
       "      <td>0.667</td>\n",
       "      <td>Б</td>\n",
       "      <td>2С</td>\n",
       "      <td>49.8</td>\n",
       "      <td>9.741000</td>\n",
       "    </tr>\n",
       "    <tr>\n",
       "      <th>19</th>\n",
       "      <td>1</td>\n",
       "      <td>Площадь Ильича</td>\n",
       "      <td>0.667</td>\n",
       "      <td>Б</td>\n",
       "      <td>С</td>\n",
       "      <td>36.6</td>\n",
       "      <td>8.265000</td>\n",
       "    </tr>\n",
       "    <tr>\n",
       "      <th>20</th>\n",
       "      <td>1</td>\n",
       "      <td>Площадь Ильича</td>\n",
       "      <td>0.667</td>\n",
       "      <td>Б</td>\n",
       "      <td>С</td>\n",
       "      <td>32.4</td>\n",
       "      <td>7.065336</td>\n",
       "    </tr>\n",
       "  </tbody>\n",
       "</table>\n",
       "</div>"
      ],
      "text/plain": [
       "    Комнат                  Метро  От станции Балкон Санузел  Площадь  \\\n",
       "0        1               Шелепиха       1.000    NaN       2     64.1   \n",
       "2        1              Планерная       2.083      Б       С     38.2   \n",
       "3        1            Шаболовская       1.000      Б       Р     38.0   \n",
       "4        1           Бабушкинская       1.250    NaN       С     34.0   \n",
       "5        1               Шелепиха       1.250    NaN     NaN     44.0   \n",
       "6        1    Улица Дмитриевского       0.167      Л       Р     43.0   \n",
       "7        1  Бульвар Рокоссовского       0.167      Б       С     31.0   \n",
       "8        1           Марьина Роща       0.833     2Б     NaN     38.9   \n",
       "9        1                Марьино       1.667    NaN       0     30.9   \n",
       "10       1                Марьино       2.083      Б       С     31.7   \n",
       "11       1              Печатники       2.083      0       С     35.0   \n",
       "12       1      Красногвардейская       0.250      Б       С     40.5   \n",
       "13       1      Красногвардейская       0.250      Б       С     40.5   \n",
       "14       1      Красногвардейская       0.250      0       С     40.9   \n",
       "15       1         Площадь Ильича       0.667      0       С     31.5   \n",
       "16       1      Красногвардейская       0.250      0       С     41.1   \n",
       "17       1      Красногвардейская       0.250      0       С     41.2   \n",
       "18       1         Площадь Ильича       0.667      Б      2С     49.8   \n",
       "19       1         Площадь Ильича       0.667      Б       С     36.6   \n",
       "20       1         Площадь Ильича       0.667      Б       С     32.4   \n",
       "\n",
       "    Цена, руб.  \n",
       "0    19.500000  \n",
       "2     7.990000  \n",
       "3    11.200000  \n",
       "4     6.250000  \n",
       "5    12.700000  \n",
       "6     6.500000  \n",
       "7     6.000000  \n",
       "8     8.900000  \n",
       "9     5.999984  \n",
       "10    5.790000  \n",
       "11    5.200000  \n",
       "12    8.079750  \n",
       "13    8.039250  \n",
       "14    7.750550  \n",
       "15    6.840300  \n",
       "16    7.213050  \n",
       "17    7.230600  \n",
       "18    9.741000  \n",
       "19    8.265000  \n",
       "20    7.065336  "
      ]
     },
     "execution_count": 40,
     "metadata": {},
     "output_type": "execute_result"
    }
   ],
   "source": [
    "basa.head(20) # посмотрим на таблицу до преобразования"
   ]
  },
  {
   "cell_type": "code",
   "execution_count": 41,
   "id": "1c206183",
   "metadata": {},
   "outputs": [],
   "source": [
    "funcList = [room_parameter, metro_parameter, distance_parameter, balcony_parameter, bathroom_parameter, square_parameter]\n",
    "# все функции, которые должны преобразовать значения столбцов в бинарные векторы "
   ]
  },
  {
   "cell_type": "code",
   "execution_count": 42,
   "id": "4a415c1c",
   "metadata": {},
   "outputs": [],
   "source": [
    "for i in range(len(basa.columns)-1):\n",
    "    basa[basa.columns[i]] = [funcList[i](cell) for cell in basa[basa.columns[i]]]"
   ]
  },
  {
   "cell_type": "code",
   "execution_count": 43,
   "id": "0653cd08",
   "metadata": {},
   "outputs": [],
   "source": [
    "basa = basa.rename(columns={'От станции': 'Расстояние', 'Цена, руб.' : 'Цена'}) # переименуем столбцы для удобства"
   ]
  },
  {
   "cell_type": "code",
   "execution_count": 44,
   "id": "c59af3c5",
   "metadata": {},
   "outputs": [
    {
     "data": {
      "text/html": [
       "<div>\n",
       "<style scoped>\n",
       "    .dataframe tbody tr th:only-of-type {\n",
       "        vertical-align: middle;\n",
       "    }\n",
       "\n",
       "    .dataframe tbody tr th {\n",
       "        vertical-align: top;\n",
       "    }\n",
       "\n",
       "    .dataframe thead th {\n",
       "        text-align: right;\n",
       "    }\n",
       "</style>\n",
       "<table border=\"1\" class=\"dataframe\">\n",
       "  <thead>\n",
       "    <tr style=\"text-align: right;\">\n",
       "      <th></th>\n",
       "      <th>Комнат</th>\n",
       "      <th>Метро</th>\n",
       "      <th>Расстояние</th>\n",
       "      <th>Балкон</th>\n",
       "      <th>Санузел</th>\n",
       "      <th>Площадь</th>\n",
       "      <th>Цена</th>\n",
       "    </tr>\n",
       "  </thead>\n",
       "  <tbody>\n",
       "    <tr>\n",
       "      <th>0</th>\n",
       "      <td>[1, 0, 0, 0, 0]</td>\n",
       "      <td>[1, 0, 0, 0, 0, 0, 0]</td>\n",
       "      <td>[0, 0, 1, 0, 0, 0]</td>\n",
       "      <td>[1, 0, 0, 0]</td>\n",
       "      <td>[0, 0, 1]</td>\n",
       "      <td>[0, 0, 0, 0, 1, 0, 0]</td>\n",
       "      <td>19.500000</td>\n",
       "    </tr>\n",
       "    <tr>\n",
       "      <th>2</th>\n",
       "      <td>[1, 0, 0, 0, 0]</td>\n",
       "      <td>[1, 0, 0, 0, 0, 0, 0]</td>\n",
       "      <td>[0, 0, 0, 0, 1, 0]</td>\n",
       "      <td>[0, 0, 1, 0]</td>\n",
       "      <td>[0, 0, 1]</td>\n",
       "      <td>[0, 0, 1, 0, 0, 0, 0]</td>\n",
       "      <td>7.990000</td>\n",
       "    </tr>\n",
       "    <tr>\n",
       "      <th>3</th>\n",
       "      <td>[1, 0, 0, 0, 0]</td>\n",
       "      <td>[0, 0, 0, 1, 0, 0, 0]</td>\n",
       "      <td>[0, 0, 1, 0, 0, 0]</td>\n",
       "      <td>[0, 0, 1, 0]</td>\n",
       "      <td>[0, 0, 1]</td>\n",
       "      <td>[0, 0, 1, 0, 0, 0, 0]</td>\n",
       "      <td>11.200000</td>\n",
       "    </tr>\n",
       "    <tr>\n",
       "      <th>4</th>\n",
       "      <td>[1, 0, 0, 0, 0]</td>\n",
       "      <td>[0, 0, 0, 0, 0, 1, 0]</td>\n",
       "      <td>[0, 0, 0, 1, 0, 0]</td>\n",
       "      <td>[1, 0, 0, 0]</td>\n",
       "      <td>[0, 0, 1]</td>\n",
       "      <td>[0, 0, 1, 0, 0, 0, 0]</td>\n",
       "      <td>6.250000</td>\n",
       "    </tr>\n",
       "    <tr>\n",
       "      <th>5</th>\n",
       "      <td>[1, 0, 0, 0, 0]</td>\n",
       "      <td>[1, 0, 0, 0, 0, 0, 0]</td>\n",
       "      <td>[0, 0, 0, 1, 0, 0]</td>\n",
       "      <td>[1, 0, 0, 0]</td>\n",
       "      <td>[1, 0, 0]</td>\n",
       "      <td>[0, 0, 0, 1, 0, 0, 0]</td>\n",
       "      <td>12.700000</td>\n",
       "    </tr>\n",
       "    <tr>\n",
       "      <th>6</th>\n",
       "      <td>[1, 0, 0, 0, 0]</td>\n",
       "      <td>[1, 0, 0, 0, 0, 0, 0]</td>\n",
       "      <td>[0, 1, 0, 0, 0, 0]</td>\n",
       "      <td>[0, 0, 1, 0]</td>\n",
       "      <td>[0, 0, 1]</td>\n",
       "      <td>[0, 0, 0, 1, 0, 0, 0]</td>\n",
       "      <td>6.500000</td>\n",
       "    </tr>\n",
       "    <tr>\n",
       "      <th>7</th>\n",
       "      <td>[1, 0, 0, 0, 0]</td>\n",
       "      <td>[0, 0, 1, 0, 0, 0, 0]</td>\n",
       "      <td>[0, 1, 0, 0, 0, 0]</td>\n",
       "      <td>[0, 0, 1, 0]</td>\n",
       "      <td>[0, 0, 1]</td>\n",
       "      <td>[0, 0, 1, 0, 0, 0, 0]</td>\n",
       "      <td>6.000000</td>\n",
       "    </tr>\n",
       "    <tr>\n",
       "      <th>8</th>\n",
       "      <td>[1, 0, 0, 0, 0]</td>\n",
       "      <td>[1, 0, 0, 0, 0, 0, 0]</td>\n",
       "      <td>[0, 0, 1, 0, 0, 0]</td>\n",
       "      <td>[0, 0, 0, 1]</td>\n",
       "      <td>[1, 0, 0]</td>\n",
       "      <td>[0, 0, 1, 0, 0, 0, 0]</td>\n",
       "      <td>8.900000</td>\n",
       "    </tr>\n",
       "    <tr>\n",
       "      <th>9</th>\n",
       "      <td>[1, 0, 0, 0, 0]</td>\n",
       "      <td>[0, 0, 1, 0, 0, 0, 0]</td>\n",
       "      <td>[0, 0, 0, 1, 0, 0]</td>\n",
       "      <td>[1, 0, 0, 0]</td>\n",
       "      <td>[0, 1, 0]</td>\n",
       "      <td>[0, 0, 1, 0, 0, 0, 0]</td>\n",
       "      <td>5.999984</td>\n",
       "    </tr>\n",
       "    <tr>\n",
       "      <th>10</th>\n",
       "      <td>[1, 0, 0, 0, 0]</td>\n",
       "      <td>[0, 0, 1, 0, 0, 0, 0]</td>\n",
       "      <td>[0, 0, 0, 0, 1, 0]</td>\n",
       "      <td>[0, 0, 1, 0]</td>\n",
       "      <td>[0, 0, 1]</td>\n",
       "      <td>[0, 0, 1, 0, 0, 0, 0]</td>\n",
       "      <td>5.790000</td>\n",
       "    </tr>\n",
       "    <tr>\n",
       "      <th>11</th>\n",
       "      <td>[1, 0, 0, 0, 0]</td>\n",
       "      <td>[0, 0, 1, 0, 0, 0, 0]</td>\n",
       "      <td>[0, 0, 0, 0, 1, 0]</td>\n",
       "      <td>[0, 0, 0, 1]</td>\n",
       "      <td>[0, 0, 1]</td>\n",
       "      <td>[0, 0, 1, 0, 0, 0, 0]</td>\n",
       "      <td>5.200000</td>\n",
       "    </tr>\n",
       "    <tr>\n",
       "      <th>12</th>\n",
       "      <td>[1, 0, 0, 0, 0]</td>\n",
       "      <td>[0, 0, 0, 1, 0, 0, 0]</td>\n",
       "      <td>[0, 1, 0, 0, 0, 0]</td>\n",
       "      <td>[0, 0, 1, 0]</td>\n",
       "      <td>[0, 0, 1]</td>\n",
       "      <td>[0, 0, 0, 1, 0, 0, 0]</td>\n",
       "      <td>8.079750</td>\n",
       "    </tr>\n",
       "    <tr>\n",
       "      <th>13</th>\n",
       "      <td>[1, 0, 0, 0, 0]</td>\n",
       "      <td>[0, 0, 0, 1, 0, 0, 0]</td>\n",
       "      <td>[0, 1, 0, 0, 0, 0]</td>\n",
       "      <td>[0, 0, 1, 0]</td>\n",
       "      <td>[0, 0, 1]</td>\n",
       "      <td>[0, 0, 0, 1, 0, 0, 0]</td>\n",
       "      <td>8.039250</td>\n",
       "    </tr>\n",
       "    <tr>\n",
       "      <th>14</th>\n",
       "      <td>[1, 0, 0, 0, 0]</td>\n",
       "      <td>[0, 0, 0, 1, 0, 0, 0]</td>\n",
       "      <td>[0, 1, 0, 0, 0, 0]</td>\n",
       "      <td>[0, 0, 0, 1]</td>\n",
       "      <td>[0, 0, 1]</td>\n",
       "      <td>[0, 0, 0, 1, 0, 0, 0]</td>\n",
       "      <td>7.750550</td>\n",
       "    </tr>\n",
       "    <tr>\n",
       "      <th>15</th>\n",
       "      <td>[1, 0, 0, 0, 0]</td>\n",
       "      <td>[0, 1, 0, 0, 0, 0, 0]</td>\n",
       "      <td>[0, 0, 1, 0, 0, 0]</td>\n",
       "      <td>[0, 0, 0, 1]</td>\n",
       "      <td>[0, 0, 1]</td>\n",
       "      <td>[0, 0, 1, 0, 0, 0, 0]</td>\n",
       "      <td>6.840300</td>\n",
       "    </tr>\n",
       "    <tr>\n",
       "      <th>16</th>\n",
       "      <td>[1, 0, 0, 0, 0]</td>\n",
       "      <td>[0, 0, 0, 1, 0, 0, 0]</td>\n",
       "      <td>[0, 1, 0, 0, 0, 0]</td>\n",
       "      <td>[0, 0, 0, 1]</td>\n",
       "      <td>[0, 0, 1]</td>\n",
       "      <td>[0, 0, 0, 1, 0, 0, 0]</td>\n",
       "      <td>7.213050</td>\n",
       "    </tr>\n",
       "    <tr>\n",
       "      <th>17</th>\n",
       "      <td>[1, 0, 0, 0, 0]</td>\n",
       "      <td>[0, 0, 0, 1, 0, 0, 0]</td>\n",
       "      <td>[0, 1, 0, 0, 0, 0]</td>\n",
       "      <td>[0, 0, 0, 1]</td>\n",
       "      <td>[0, 0, 1]</td>\n",
       "      <td>[0, 0, 0, 1, 0, 0, 0]</td>\n",
       "      <td>7.230600</td>\n",
       "    </tr>\n",
       "    <tr>\n",
       "      <th>18</th>\n",
       "      <td>[1, 0, 0, 0, 0]</td>\n",
       "      <td>[0, 1, 0, 0, 0, 0, 0]</td>\n",
       "      <td>[0, 0, 1, 0, 0, 0]</td>\n",
       "      <td>[0, 0, 1, 0]</td>\n",
       "      <td>[0, 0, 1]</td>\n",
       "      <td>[0, 0, 0, 1, 0, 0, 0]</td>\n",
       "      <td>9.741000</td>\n",
       "    </tr>\n",
       "    <tr>\n",
       "      <th>19</th>\n",
       "      <td>[1, 0, 0, 0, 0]</td>\n",
       "      <td>[0, 1, 0, 0, 0, 0, 0]</td>\n",
       "      <td>[0, 0, 1, 0, 0, 0]</td>\n",
       "      <td>[0, 0, 1, 0]</td>\n",
       "      <td>[0, 0, 1]</td>\n",
       "      <td>[0, 0, 1, 0, 0, 0, 0]</td>\n",
       "      <td>8.265000</td>\n",
       "    </tr>\n",
       "    <tr>\n",
       "      <th>20</th>\n",
       "      <td>[1, 0, 0, 0, 0]</td>\n",
       "      <td>[0, 1, 0, 0, 0, 0, 0]</td>\n",
       "      <td>[0, 0, 1, 0, 0, 0]</td>\n",
       "      <td>[0, 0, 1, 0]</td>\n",
       "      <td>[0, 0, 1]</td>\n",
       "      <td>[0, 0, 1, 0, 0, 0, 0]</td>\n",
       "      <td>7.065336</td>\n",
       "    </tr>\n",
       "  </tbody>\n",
       "</table>\n",
       "</div>"
      ],
      "text/plain": [
       "             Комнат                  Метро          Расстояние        Балкон  \\\n",
       "0   [1, 0, 0, 0, 0]  [1, 0, 0, 0, 0, 0, 0]  [0, 0, 1, 0, 0, 0]  [1, 0, 0, 0]   \n",
       "2   [1, 0, 0, 0, 0]  [1, 0, 0, 0, 0, 0, 0]  [0, 0, 0, 0, 1, 0]  [0, 0, 1, 0]   \n",
       "3   [1, 0, 0, 0, 0]  [0, 0, 0, 1, 0, 0, 0]  [0, 0, 1, 0, 0, 0]  [0, 0, 1, 0]   \n",
       "4   [1, 0, 0, 0, 0]  [0, 0, 0, 0, 0, 1, 0]  [0, 0, 0, 1, 0, 0]  [1, 0, 0, 0]   \n",
       "5   [1, 0, 0, 0, 0]  [1, 0, 0, 0, 0, 0, 0]  [0, 0, 0, 1, 0, 0]  [1, 0, 0, 0]   \n",
       "6   [1, 0, 0, 0, 0]  [1, 0, 0, 0, 0, 0, 0]  [0, 1, 0, 0, 0, 0]  [0, 0, 1, 0]   \n",
       "7   [1, 0, 0, 0, 0]  [0, 0, 1, 0, 0, 0, 0]  [0, 1, 0, 0, 0, 0]  [0, 0, 1, 0]   \n",
       "8   [1, 0, 0, 0, 0]  [1, 0, 0, 0, 0, 0, 0]  [0, 0, 1, 0, 0, 0]  [0, 0, 0, 1]   \n",
       "9   [1, 0, 0, 0, 0]  [0, 0, 1, 0, 0, 0, 0]  [0, 0, 0, 1, 0, 0]  [1, 0, 0, 0]   \n",
       "10  [1, 0, 0, 0, 0]  [0, 0, 1, 0, 0, 0, 0]  [0, 0, 0, 0, 1, 0]  [0, 0, 1, 0]   \n",
       "11  [1, 0, 0, 0, 0]  [0, 0, 1, 0, 0, 0, 0]  [0, 0, 0, 0, 1, 0]  [0, 0, 0, 1]   \n",
       "12  [1, 0, 0, 0, 0]  [0, 0, 0, 1, 0, 0, 0]  [0, 1, 0, 0, 0, 0]  [0, 0, 1, 0]   \n",
       "13  [1, 0, 0, 0, 0]  [0, 0, 0, 1, 0, 0, 0]  [0, 1, 0, 0, 0, 0]  [0, 0, 1, 0]   \n",
       "14  [1, 0, 0, 0, 0]  [0, 0, 0, 1, 0, 0, 0]  [0, 1, 0, 0, 0, 0]  [0, 0, 0, 1]   \n",
       "15  [1, 0, 0, 0, 0]  [0, 1, 0, 0, 0, 0, 0]  [0, 0, 1, 0, 0, 0]  [0, 0, 0, 1]   \n",
       "16  [1, 0, 0, 0, 0]  [0, 0, 0, 1, 0, 0, 0]  [0, 1, 0, 0, 0, 0]  [0, 0, 0, 1]   \n",
       "17  [1, 0, 0, 0, 0]  [0, 0, 0, 1, 0, 0, 0]  [0, 1, 0, 0, 0, 0]  [0, 0, 0, 1]   \n",
       "18  [1, 0, 0, 0, 0]  [0, 1, 0, 0, 0, 0, 0]  [0, 0, 1, 0, 0, 0]  [0, 0, 1, 0]   \n",
       "19  [1, 0, 0, 0, 0]  [0, 1, 0, 0, 0, 0, 0]  [0, 0, 1, 0, 0, 0]  [0, 0, 1, 0]   \n",
       "20  [1, 0, 0, 0, 0]  [0, 1, 0, 0, 0, 0, 0]  [0, 0, 1, 0, 0, 0]  [0, 0, 1, 0]   \n",
       "\n",
       "      Санузел                Площадь       Цена  \n",
       "0   [0, 0, 1]  [0, 0, 0, 0, 1, 0, 0]  19.500000  \n",
       "2   [0, 0, 1]  [0, 0, 1, 0, 0, 0, 0]   7.990000  \n",
       "3   [0, 0, 1]  [0, 0, 1, 0, 0, 0, 0]  11.200000  \n",
       "4   [0, 0, 1]  [0, 0, 1, 0, 0, 0, 0]   6.250000  \n",
       "5   [1, 0, 0]  [0, 0, 0, 1, 0, 0, 0]  12.700000  \n",
       "6   [0, 0, 1]  [0, 0, 0, 1, 0, 0, 0]   6.500000  \n",
       "7   [0, 0, 1]  [0, 0, 1, 0, 0, 0, 0]   6.000000  \n",
       "8   [1, 0, 0]  [0, 0, 1, 0, 0, 0, 0]   8.900000  \n",
       "9   [0, 1, 0]  [0, 0, 1, 0, 0, 0, 0]   5.999984  \n",
       "10  [0, 0, 1]  [0, 0, 1, 0, 0, 0, 0]   5.790000  \n",
       "11  [0, 0, 1]  [0, 0, 1, 0, 0, 0, 0]   5.200000  \n",
       "12  [0, 0, 1]  [0, 0, 0, 1, 0, 0, 0]   8.079750  \n",
       "13  [0, 0, 1]  [0, 0, 0, 1, 0, 0, 0]   8.039250  \n",
       "14  [0, 0, 1]  [0, 0, 0, 1, 0, 0, 0]   7.750550  \n",
       "15  [0, 0, 1]  [0, 0, 1, 0, 0, 0, 0]   6.840300  \n",
       "16  [0, 0, 1]  [0, 0, 0, 1, 0, 0, 0]   7.213050  \n",
       "17  [0, 0, 1]  [0, 0, 0, 1, 0, 0, 0]   7.230600  \n",
       "18  [0, 0, 1]  [0, 0, 0, 1, 0, 0, 0]   9.741000  \n",
       "19  [0, 0, 1]  [0, 0, 1, 0, 0, 0, 0]   8.265000  \n",
       "20  [0, 0, 1]  [0, 0, 1, 0, 0, 0, 0]   7.065336  "
      ]
     },
     "execution_count": 44,
     "metadata": {},
     "output_type": "execute_result"
    }
   ],
   "source": [
    "basa.head(20) # посмотрим на таблицу после преобразования"
   ]
  },
  {
   "cell_type": "code",
   "execution_count": 45,
   "id": "c4c1a4a5",
   "metadata": {},
   "outputs": [
    {
     "data": {
      "text/plain": [
       "(90189, 7)"
      ]
     },
     "execution_count": 45,
     "metadata": {},
     "output_type": "execute_result"
    }
   ],
   "source": [
    "basa.shape"
   ]
  },
  {
   "cell_type": "code",
   "execution_count": 46,
   "id": "483a2d55",
   "metadata": {},
   "outputs": [],
   "source": [
    "df_test = basa.copy()\n",
    "x = df_test[['Комнат','Метро','Расстояние','Балкон','Санузел','Площадь']] # входные данные - первые 6 столбцов\n",
    "x = x.sum(axis=1).to_frame()"
   ]
  },
  {
   "cell_type": "code",
   "execution_count": 47,
   "id": "49b856dc",
   "metadata": {},
   "outputs": [
    {
     "data": {
      "text/html": [
       "<div>\n",
       "<style scoped>\n",
       "    .dataframe tbody tr th:only-of-type {\n",
       "        vertical-align: middle;\n",
       "    }\n",
       "\n",
       "    .dataframe tbody tr th {\n",
       "        vertical-align: top;\n",
       "    }\n",
       "\n",
       "    .dataframe thead th {\n",
       "        text-align: right;\n",
       "    }\n",
       "</style>\n",
       "<table border=\"1\" class=\"dataframe\">\n",
       "  <thead>\n",
       "    <tr style=\"text-align: right;\">\n",
       "      <th></th>\n",
       "      <th>0</th>\n",
       "    </tr>\n",
       "  </thead>\n",
       "  <tbody>\n",
       "    <tr>\n",
       "      <th>0</th>\n",
       "      <td>[1, 0, 0, 0, 0, 1, 0, 0, 0, 0, 0, 0, 0, 0, 1, ...</td>\n",
       "    </tr>\n",
       "    <tr>\n",
       "      <th>2</th>\n",
       "      <td>[1, 0, 0, 0, 0, 1, 0, 0, 0, 0, 0, 0, 0, 0, 0, ...</td>\n",
       "    </tr>\n",
       "    <tr>\n",
       "      <th>3</th>\n",
       "      <td>[1, 0, 0, 0, 0, 0, 0, 0, 1, 0, 0, 0, 0, 0, 1, ...</td>\n",
       "    </tr>\n",
       "    <tr>\n",
       "      <th>4</th>\n",
       "      <td>[1, 0, 0, 0, 0, 0, 0, 0, 0, 0, 1, 0, 0, 0, 0, ...</td>\n",
       "    </tr>\n",
       "    <tr>\n",
       "      <th>5</th>\n",
       "      <td>[1, 0, 0, 0, 0, 1, 0, 0, 0, 0, 0, 0, 0, 0, 0, ...</td>\n",
       "    </tr>\n",
       "  </tbody>\n",
       "</table>\n",
       "</div>"
      ],
      "text/plain": [
       "                                                   0\n",
       "0  [1, 0, 0, 0, 0, 1, 0, 0, 0, 0, 0, 0, 0, 0, 1, ...\n",
       "2  [1, 0, 0, 0, 0, 1, 0, 0, 0, 0, 0, 0, 0, 0, 0, ...\n",
       "3  [1, 0, 0, 0, 0, 0, 0, 0, 1, 0, 0, 0, 0, 0, 1, ...\n",
       "4  [1, 0, 0, 0, 0, 0, 0, 0, 0, 0, 1, 0, 0, 0, 0, ...\n",
       "5  [1, 0, 0, 0, 0, 1, 0, 0, 0, 0, 0, 0, 0, 0, 0, ..."
      ]
     },
     "execution_count": 47,
     "metadata": {},
     "output_type": "execute_result"
    }
   ],
   "source": [
    "x.head()"
   ]
  },
  {
   "cell_type": "code",
   "execution_count": 48,
   "id": "c43f2261",
   "metadata": {},
   "outputs": [],
   "source": [
    "y = df_test[['Цена']]  # Последний столбец. Цена квартир, которую мы хотим получить на выходе нейросети"
   ]
  },
  {
   "cell_type": "code",
   "execution_count": 49,
   "id": "89ad9571",
   "metadata": {},
   "outputs": [
    {
     "data": {
      "text/html": [
       "<div>\n",
       "<style scoped>\n",
       "    .dataframe tbody tr th:only-of-type {\n",
       "        vertical-align: middle;\n",
       "    }\n",
       "\n",
       "    .dataframe tbody tr th {\n",
       "        vertical-align: top;\n",
       "    }\n",
       "\n",
       "    .dataframe thead th {\n",
       "        text-align: right;\n",
       "    }\n",
       "</style>\n",
       "<table border=\"1\" class=\"dataframe\">\n",
       "  <thead>\n",
       "    <tr style=\"text-align: right;\">\n",
       "      <th></th>\n",
       "      <th>Цена</th>\n",
       "    </tr>\n",
       "  </thead>\n",
       "  <tbody>\n",
       "    <tr>\n",
       "      <th>0</th>\n",
       "      <td>19.50</td>\n",
       "    </tr>\n",
       "    <tr>\n",
       "      <th>2</th>\n",
       "      <td>7.99</td>\n",
       "    </tr>\n",
       "    <tr>\n",
       "      <th>3</th>\n",
       "      <td>11.20</td>\n",
       "    </tr>\n",
       "    <tr>\n",
       "      <th>4</th>\n",
       "      <td>6.25</td>\n",
       "    </tr>\n",
       "    <tr>\n",
       "      <th>5</th>\n",
       "      <td>12.70</td>\n",
       "    </tr>\n",
       "  </tbody>\n",
       "</table>\n",
       "</div>"
      ],
      "text/plain": [
       "    Цена\n",
       "0  19.50\n",
       "2   7.99\n",
       "3  11.20\n",
       "4   6.25\n",
       "5  12.70"
      ]
     },
     "execution_count": 49,
     "metadata": {},
     "output_type": "execute_result"
    }
   ],
   "source": [
    "y.head()"
   ]
  },
  {
   "cell_type": "code",
   "execution_count": 50,
   "id": "f806242e",
   "metadata": {},
   "outputs": [
    {
     "name": "stdout",
     "output_type": "stream",
     "text": [
      "(90189, 1) (90189, 1)\n"
     ]
    }
   ],
   "source": [
    "print(x.shape,y.shape)"
   ]
  },
  {
   "cell_type": "code",
   "execution_count": 51,
   "id": "b51da686",
   "metadata": {},
   "outputs": [],
   "source": [
    "X = x.values\n",
    "Y = y.values"
   ]
  },
  {
   "cell_type": "code",
   "execution_count": 52,
   "id": "a8b1762a",
   "metadata": {},
   "outputs": [
    {
     "name": "stdout",
     "output_type": "stream",
     "text": [
      "[list([1, 0, 0, 0, 0, 1, 0, 0, 0, 0, 0, 0, 0, 0, 1, 0, 0, 0, 1, 0, 0, 0, 0, 0, 1, 0, 0, 0, 0, 1, 0, 0])]\n"
     ]
    }
   ],
   "source": [
    "print(X[0])"
   ]
  },
  {
   "cell_type": "code",
   "execution_count": 53,
   "id": "1d271390",
   "metadata": {},
   "outputs": [],
   "source": [
    "def list_to_array(data):\n",
    "    arr = []\n",
    "    for i in range(len(data)):\n",
    "        arr.append(data[i][0])\n",
    "    return np.array(arr)"
   ]
  },
  {
   "cell_type": "code",
   "execution_count": 54,
   "id": "0b6152f9",
   "metadata": {},
   "outputs": [],
   "source": [
    "X = list_to_array(X)"
   ]
  },
  {
   "cell_type": "code",
   "execution_count": 55,
   "id": "058b4779",
   "metadata": {},
   "outputs": [],
   "source": [
    "Y = np.array(Y)"
   ]
  },
  {
   "cell_type": "code",
   "execution_count": 56,
   "id": "06351d1b",
   "metadata": {},
   "outputs": [],
   "source": [
    "yScaler = StandardScaler()\n",
    "yScaler.fit(Y.reshape(-1, 1))                     # Нормализуем цену по нормальному распределению\n",
    "yTrainScaled = yScaler.transform(Y.reshape(-1, 1))"
   ]
  },
  {
   "cell_type": "code",
   "execution_count": 57,
   "id": "1209b71d",
   "metadata": {},
   "outputs": [
    {
     "name": "stdout",
     "output_type": "stream",
     "text": [
      "[[ 2.32530135]\n",
      " [-0.31823149]\n",
      " [ 0.41901789]\n",
      " ...\n",
      " [-1.48726557]\n",
      " [-0.95901834]\n",
      " [-1.51252957]]\n"
     ]
    }
   ],
   "source": [
    "print(yTrainScaled)"
   ]
  },
  {
   "cell_type": "code",
   "execution_count": 58,
   "id": "b7858e9b",
   "metadata": {},
   "outputs": [],
   "source": [
    "X_train, x_test, Y_train, y_test = train_test_split(X, yTrainScaled, test_size=0.1, shuffle=True) # выделяем тестовую выборку"
   ]
  },
  {
   "cell_type": "code",
   "execution_count": 59,
   "id": "636d8957",
   "metadata": {},
   "outputs": [],
   "source": [
    "x_train, x_val, y_train, y_val = train_test_split(X_train, Y_train, test_size=0.2, shuffle=True) # разделяем оставшиеся данные на train и val"
   ]
  },
  {
   "cell_type": "code",
   "execution_count": 60,
   "id": "816003e8",
   "metadata": {},
   "outputs": [
    {
     "name": "stdout",
     "output_type": "stream",
     "text": [
      "(64936, 32) (64936, 1)\n",
      "(16234, 32) (16234, 1)\n",
      "(9019, 32) (9019, 1)\n"
     ]
    }
   ],
   "source": [
    "print(x_train.shape, y_train.shape)\n",
    "print(x_val.shape, y_val.shape)\n",
    "print(x_test.shape, y_test.shape)"
   ]
  },
  {
   "cell_type": "code",
   "execution_count": 91,
   "id": "3f46b011",
   "metadata": {},
   "outputs": [],
   "source": [
    "def on_train_begin(logs):\n",
    "    global losses\n",
    "    global val_losses\n",
    "    losses = []\n",
    "    val_losses = []\n",
    "    \n",
    "def on_epoch_end(epoch,logs):\n",
    "    print(\"Эпоха: \",epoch)\n",
    "    \n",
    "    losses.append(list(logs.values())[0])\n",
    "    val_losses.append(list(logs.values())[1])\n",
    "    \n",
    "    if epoch > 5:\n",
    "        temp_loss = val_losses[epoch-5:]\n",
    "        if np.mean(temp_loss) < np.min(temp_loss)+0.01:\n",
    "            model.optimizer.lr.assign(K.eval(model.optimizer.lr)*3)           #Меняем шаг обучения, если попали на \"Плато\"\n",
    "            print('Шаг обучения был изменён по причине: \"Плато\"')\n",
    "            print(\"Новый шаг обучения:\",round(K.eval(model.optimizer.lr),5))\n",
    "            \n",
    "            \n",
    "        if np.mean(temp_loss) > np.min(temp_loss)+0.1:\n",
    "            model.optimizer.lr.assign(K.eval(model.optimizer.lr)*0.5)\n",
    "            print('Шаг обучения был изменён по причине: \"mse начала расти\"') # Уменьшаем шаг обучения, если значение потерь начало расти \n",
    "            print(\"Новый шаг обучения:\",round(K.eval(model.optimizer.lr),5))"
   ]
  },
  {
   "cell_type": "code",
   "execution_count": 92,
   "id": "20b4e9dc",
   "metadata": {},
   "outputs": [],
   "source": [
    "clbk = LambdaCallback(on_train_begin=on_train_begin,on_epoch_end=on_epoch_end)"
   ]
  },
  {
   "cell_type": "code",
   "execution_count": 99,
   "id": "f32b2904",
   "metadata": {},
   "outputs": [],
   "source": [
    "def createModel():  # функция, создающая полносвязную сеть\n",
    "    \n",
    "    model = Sequential()\n",
    "    \n",
    "    model.add(Dense(32,input_dim=32, activation='relu'))\n",
    "    \n",
    "    model.add(Dropout(0.2))\n",
    "    \n",
    "\n",
    "    model.add(Dense(16, activation='relu'))\n",
    "    \n",
    "    model.add(Dropout(0.2))\n",
    "\n",
    "    model.add(Dense(1, activation='linear'))\n",
    "\n",
    "    model.compile(optimizer=Adam(learning_rate=1e-4), loss='mse', metrics=['mae'])\n",
    "    \n",
    "    model.summary()\n",
    "\n",
    "    return model "
   ]
  },
  {
   "cell_type": "code",
   "execution_count": 100,
   "id": "39665772",
   "metadata": {},
   "outputs": [
    {
     "name": "stdout",
     "output_type": "stream",
     "text": [
      "Model: \"sequential_5\"\n",
      "_________________________________________________________________\n",
      " Layer (type)                Output Shape              Param #   \n",
      "=================================================================\n",
      " dense_15 (Dense)            (None, 32)                1056      \n",
      "                                                                 \n",
      " dropout_10 (Dropout)        (None, 32)                0         \n",
      "                                                                 \n",
      " dense_16 (Dense)            (None, 16)                528       \n",
      "                                                                 \n",
      " dropout_11 (Dropout)        (None, 16)                0         \n",
      "                                                                 \n",
      " dense_17 (Dense)            (None, 1)                 17        \n",
      "                                                                 \n",
      "=================================================================\n",
      "Total params: 1,601\n",
      "Trainable params: 1,601\n",
      "Non-trainable params: 0\n",
      "_________________________________________________________________\n"
     ]
    }
   ],
   "source": [
    "model = createModel()"
   ]
  },
  {
   "cell_type": "code",
   "execution_count": 101,
   "id": "66da2135",
   "metadata": {},
   "outputs": [
    {
     "name": "stdout",
     "output_type": "stream",
     "text": [
      "Epoch 1/20\n",
      "251/254 [============================>.] - ETA: 0s - loss: 1.0010 - mae: 0.7526Эпоха:  0\n",
      "254/254 [==============================] - 2s 6ms/step - loss: 0.9999 - mae: 0.7520 - val_loss: 0.8098 - val_mae: 0.6681\n",
      "Epoch 2/20\n",
      "243/254 [===========================>..] - ETA: 0s - loss: 0.8246 - mae: 0.6672Эпоха:  1\n",
      "254/254 [==============================] - 1s 5ms/step - loss: 0.8216 - mae: 0.6659 - val_loss: 0.6889 - val_mae: 0.6025\n",
      "Epoch 3/20\n",
      "251/254 [============================>.] - ETA: 0s - loss: 0.7354 - mae: 0.6260Эпоха:  2\n",
      "254/254 [==============================] - 1s 5ms/step - loss: 0.7364 - mae: 0.6264 - val_loss: 0.6259 - val_mae: 0.5642\n",
      "Epoch 4/20\n",
      "249/254 [============================>.] - ETA: 0s - loss: 0.6895 - mae: 0.6037Эпоха:  3\n",
      "254/254 [==============================] - 1s 5ms/step - loss: 0.6890 - mae: 0.6034 - val_loss: 0.5876 - val_mae: 0.5449\n",
      "Epoch 5/20\n",
      "244/254 [===========================>..] - ETA: 0s - loss: 0.6574 - mae: 0.5861Эпоха:  4\n",
      "254/254 [==============================] - 1s 5ms/step - loss: 0.6559 - mae: 0.5856 - val_loss: 0.5558 - val_mae: 0.5236\n",
      "Epoch 6/20\n",
      "254/254 [==============================] - ETA: 0s - loss: 0.6283 - mae: 0.5709Эпоха:  5\n",
      "254/254 [==============================] - 1s 5ms/step - loss: 0.6283 - mae: 0.5709 - val_loss: 0.5331 - val_mae: 0.5111\n",
      "Epoch 7/20\n",
      "246/254 [============================>.] - ETA: 0s - loss: 0.6065 - mae: 0.5585Эпоха:  6\n",
      "254/254 [==============================] - 1s 5ms/step - loss: 0.6057 - mae: 0.5581 - val_loss: 0.5136 - val_mae: 0.4992\n",
      "Epoch 8/20\n",
      "249/254 [============================>.] - ETA: 0s - loss: 0.5875 - mae: 0.5461Эпоха:  7\n",
      "254/254 [==============================] - 1s 5ms/step - loss: 0.5861 - mae: 0.5456 - val_loss: 0.4981 - val_mae: 0.4898\n",
      "Epoch 9/20\n",
      "253/254 [============================>.] - ETA: 0s - loss: 0.5738 - mae: 0.5373Эпоха:  8\n",
      "254/254 [==============================] - 1s 5ms/step - loss: 0.5738 - mae: 0.5372 - val_loss: 0.4880 - val_mae: 0.4846\n",
      "Epoch 10/20\n",
      "244/254 [===========================>..] - ETA: 0s - loss: 0.5586 - mae: 0.5286Эпоха:  9\n",
      "254/254 [==============================] - 1s 5ms/step - loss: 0.5592 - mae: 0.5286 - val_loss: 0.4803 - val_mae: 0.4800\n",
      "Epoch 11/20\n",
      "253/254 [============================>.] - ETA: 0s - loss: 0.5517 - mae: 0.5243Эпоха:  10\n",
      "254/254 [==============================] - 1s 5ms/step - loss: 0.5519 - mae: 0.5244 - val_loss: 0.4732 - val_mae: 0.4771\n",
      "Epoch 12/20\n",
      "246/254 [============================>.] - ETA: 0s - loss: 0.5418 - mae: 0.5191Эпоха:  11\n",
      "254/254 [==============================] - 1s 5ms/step - loss: 0.5413 - mae: 0.5189 - val_loss: 0.4661 - val_mae: 0.4707\n",
      "Epoch 13/20\n",
      "248/254 [============================>.] - ETA: 0s - loss: 0.5371 - mae: 0.5158Эпоха:  12\n",
      "254/254 [==============================] - 1s 5ms/step - loss: 0.5375 - mae: 0.5161 - val_loss: 0.4623 - val_mae: 0.4701\n",
      "Epoch 14/20\n",
      "248/254 [============================>.] - ETA: 0s - loss: 0.5258 - mae: 0.5095Эпоха:  13\n",
      "254/254 [==============================] - 1s 5ms/step - loss: 0.5258 - mae: 0.5095 - val_loss: 0.4570 - val_mae: 0.4688\n",
      "Epoch 15/20\n",
      "252/254 [============================>.] - ETA: 0s - loss: 0.5247 - mae: 0.5085Эпоха:  14\n",
      "Шаг обучения был изменён по причине: \"Плато\"\n",
      "Новый шаг обучения: 0.0003\n",
      "254/254 [==============================] - 1s 5ms/step - loss: 0.5255 - mae: 0.5088 - val_loss: 0.4527 - val_mae: 0.4668\n",
      "Epoch 16/20\n",
      "246/254 [============================>.] - ETA: 0s - loss: 0.5141 - mae: 0.5027Эпоха:  15\n",
      "254/254 [==============================] - 1s 5ms/step - loss: 0.5142 - mae: 0.5028 - val_loss: 0.4400 - val_mae: 0.4592\n",
      "Epoch 17/20\n",
      "245/254 [===========================>..] - ETA: 0s - loss: 0.5014 - mae: 0.4942Эпоха:  16\n",
      "254/254 [==============================] - 1s 5ms/step - loss: 0.5021 - mae: 0.4944 - val_loss: 0.4323 - val_mae: 0.4548\n",
      "Epoch 18/20\n",
      "249/254 [============================>.] - ETA: 0s - loss: 0.4904 - mae: 0.4894Эпоха:  17\n",
      "254/254 [==============================] - 1s 5ms/step - loss: 0.4903 - mae: 0.4894 - val_loss: 0.4269 - val_mae: 0.4481\n",
      "Epoch 19/20\n",
      "248/254 [============================>.] - ETA: 0s - loss: 0.4847 - mae: 0.4850Эпоха:  18\n",
      "254/254 [==============================] - 1s 5ms/step - loss: 0.4843 - mae: 0.4847 - val_loss: 0.4218 - val_mae: 0.4445\n",
      "Epoch 20/20\n",
      "248/254 [============================>.] - ETA: 0s - loss: 0.4808 - mae: 0.4823Эпоха:  19\n",
      "254/254 [==============================] - 1s 5ms/step - loss: 0.4808 - mae: 0.4822 - val_loss: 0.4166 - val_mae: 0.4448\n"
     ]
    }
   ],
   "source": [
    "history = model.fit(x_train, y_train,   #обучаем модель\n",
    "                    batch_size=256, \n",
    "                    epochs=20,\n",
    "                    validation_data=(x_val,y_val), \n",
    "                    verbose=1,\n",
    "                    callbacks = clbk) "
   ]
  },
  {
   "cell_type": "code",
   "execution_count": 102,
   "id": "3d4d25d5",
   "metadata": {},
   "outputs": [
    {
     "data": {
      "image/png": "[encoded data removed]",
      "text/plain": [
       "<Figure size 576x504 with 1 Axes>"
      ]
     },
     "metadata": {
      "needs_background": "light"
     },
     "output_type": "display_data"
    }
   ],
   "source": [
    "plt.plot(history.history['mae'],            #смотрим, как изменялась MAE на этапе обучения и проверки\n",
    "         label='MAE на обучающем наборе')\n",
    "plt.plot(history.history['val_mae'], \n",
    "         label='MAE на проверочном наборе')\n",
    "plt.xlabel('Эпоха обучения')\n",
    "plt.ylabel('MAE')\n",
    "plt.legend()\n",
    "plt.show()"
   ]
  },
  {
   "cell_type": "code",
   "execution_count": 103,
   "id": "46dccdd1",
   "metadata": {},
   "outputs": [
    {
     "name": "stdout",
     "output_type": "stream",
     "text": [
      "1.942\n"
     ]
    }
   ],
   "source": [
    "pred = model.predict(x_test)\n",
    "predUnscaled = yScaler.inverse_transform(pred).flatten()\n",
    "yTestUnscaled = yScaler.inverse_transform(y_test).flatten()  # Предсказываем цену квартир из тестовой выборки\n",
    "delta = predUnscaled - yTestUnscaled\n",
    "absDelta = abs(delta)\n",
    "print(round(sum(absDelta) / (len(absDelta)),3))              # Ошибка получилась в среднем 2 миллиона рублей"
   ]
  },
  {
   "cell_type": "code",
   "execution_count": 104,
   "id": "62f6393c",
   "metadata": {},
   "outputs": [
    {
     "data": {
      "image/png": "[encoded data removed]",
      "text/plain": [
       "<Figure size 576x504 with 1 Axes>"
      ]
     },
     "metadata": {
      "needs_background": "light"
     },
     "output_type": "display_data"
    }
   ],
   "source": [
    "plt.scatter(yTestUnscaled, predUnscaled) \n",
    "plt.xlabel('Правильные значение')\n",
    "plt.ylabel('Предсказания')\n",
    "plt.axis('equal')\n",
    "plt.xlim(plt.xlim())\n",
    "plt.ylim(plt.ylim())\n",
    "plt.plot([-1000, 1000], [-1000, 1000])                       # Как можно заметить из графика, чаще всего нейросеть ошибалась\n",
    "plt.show()                                                   # в ценах дорогих квартир(больше 15 миллионов)\n",
    "                                                             # Данный результат не удивителен, ведь на цену таких квартир \n",
    "                                                             # влияет гораздо больше данных, чем те, что были у нас в наличии"
   ]
  }
 ],
 "metadata": {
  "kernelspec": {
   "display_name": "Python 3 (ipykernel)",
   "language": "python",
   "name": "python3"
  },
  "language_info": {
   "codemirror_mode": {
    "name": "ipython",
    "version": 3
   },
   "file_extension": ".py",
   "mimetype": "text/x-python",
   "name": "python",
   "nbconvert_exporter": "python",
   "pygments_lexer": "ipython3",
   "version": "3.9.12"
  }
 },
 "nbformat": 4,
 "nbformat_minor": 5
}
